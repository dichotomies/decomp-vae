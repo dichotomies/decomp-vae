{
 "cells": [
  {
   "cell_type": "code",
   "execution_count": null,
   "metadata": {},
   "outputs": [],
   "source": []
  },
  {
   "cell_type": "code",
   "execution_count": null,
   "metadata": {},
   "outputs": [],
   "source": [
    "# import models\n",
    "# z = models.datasets.DspritesDataset('.', split=False)"
   ]
  },
  {
   "cell_type": "code",
   "execution_count": null,
   "metadata": {},
   "outputs": [],
   "source": [
    "# import time\n",
    "# t1 = time.time()\n",
    "# z.compute_pca(path = z.pca_filename, X = z.images[:])\n",
    "# t2 = time.time()\n",
    "# print(t2 - t1)"
   ]
  },
  {
   "cell_type": "code",
   "execution_count": null,
   "metadata": {},
   "outputs": [],
   "source": [
    "# in paper: LR=1e-4! (See appendix, p. 14)\n",
    "BETA=1; python main.py --cuda-dev=8 --name dsprites_beta_$BETA_\\pz_norm_iso --model dsprites \\\n",
    "    --skip-test --epochs 20 --lr 1e-4 --batch-size 64 --latent-dim 10 --beta $BETA --prior-variance iso\n",
    "BETA=1; python main.py --cuda-dev=8 --name dsprites_beta_$BETA_\\pz_norm_pca --model dsprites \\\n",
    "    --skip-test --epochs 20 --lr 1e-4 --batch-size 64 --latent-dim 10 --beta $BETA --prior-variance pca\n",
    "BETA=1; python main.py --cuda-dev=8 --name dsprites_beta_$BETA_\\pz_norm_pca_learn --model dsprites \\\n",
    "    --skip-test --epochs 20 --lr 1e-4 --batch-size 64 --latent-dim 10 --beta $BETA --prior-variance pca \\\n",
    "    --learn-prior-variance\n",
    "\n",
    "# here batch size and nb epochs different\n",
    "DF=9; python main.py --cuda-dev=6 --name dsprites_beta_1_pz_st_$DF --model dsprites \\\n",
    "    --skip-test --epochs 40 --lr 1e-4 --batch-size 256 --latent-dim 10 --beta 1. --prior StudentT --df DF\n",
    "\n",
    "\n",
    "---\n",
    "\n",
    "\n",
    "BETA=2; python main.py --cuda-dev=7 --name dsprites_beta_$BETA\\_pz_norm_iso --model dsprites \\\n",
    "    --skip-test --epochs 20 --lr 1e-4 --batch-size 64 --latent-dim 10 --beta $BETA --prior-variance iso\n",
    "BETA=2; python main.py --cuda-dev=5 --name dsprites_beta_$BETA\\_pz_norm_pca --model dsprites \\\n",
    "    --skip-test --epochs 20 --lr 1e-4 --batch-size 64 --latent-dim 10 --beta $BETA --prior-variance pca\n",
    "BETA=2; python main.py --cuda-dev=2 --name dsprites_beta_$BETA\\_pz_norm_pca_learn --model dsprites \\\n",
    "    --skip-test --epochs 20 --lr 1e-4 --batch-size 64 --latent-dim 10 --beta $BETA --prior-variance pca \\\n",
    "    --learn-prior-variance\n",
    "\n",
    "DF=12; python main.py --cuda-dev=0 --name dsprites_beta_1_pz_st_$DF --model dsprites \\\n",
    "    --skip-test --epochs 40 --lr 1e-4 --batch-size 256 --latent-dim 10 --beta 1. --prior StudentT --df $DF\n",
    "\n",
    "--\n",
    "\n",
    "BETA=4; python main.py --cuda-dev=8 --name dsprites_beta_$BETA_\\pz_norm_iso --model dsprites \\\n",
    "    --skip-test --epochs 20 --lr 1e-4 --batch-size 64 --latent-dim 10 --beta $BETA --prior-variance iso\n",
    "BETA=4; python main.py --cuda-dev=8 --name dsprites_beta_$BETA_\\pz_norm_pca --model dsprites \\\n",
    "    --skip-test --epochs 20 --lr 1e-4 --batch-size 64 --latent-dim 10 --beta $BETA --prior-variance pca\n",
    "BETA=4; python main.py --cuda-dev=8 --name dsprites_beta_$BETA_\\pz_norm_pca_learn --model dsprites \\\n",
    "    --skip-test --epochs 20 --lr 1e-4 --batch-size 64 --latent-dim 10 --beta $BETA --prior-variance pca \\\n",
    "    --learn-prior-variance\n",
    "\n",
    "DF=2; python main.py --cuda-dev=0 --name dsprites_beta_1_pz_st_$DF --model dsprites \\\n",
    "    --skip-test --epochs 40 --lr 1e-4 --batch-size 256 --latent-dim 10 --beta 1. --prior StudentT --df $DF\n",
    "\n"
   ]
  },
  {
   "cell_type": "code",
   "execution_count": null,
   "metadata": {},
   "outputs": [],
   "source": [
    "0 2 3 4 5 7\n",
    "\n",
    "4, 5: 256 batch"
   ]
  },
  {
   "cell_type": "markdown",
   "metadata": {},
   "source": [
    "Appendix:\n",
    "\n",
    "\"For p(z) = N (z; 0, diag(σ)), experiments were run with \n",
    "\n",
    "a batch size of 64 and for 20 epochs. For p(z) = 􏰐d STUDENT-T(zd; ν), \n",
    "\n",
    "experiments were run with a batch size of 256 and for 40 epochs\""
   ]
  },
  {
   "cell_type": "code",
   "execution_count": 1,
   "metadata": {},
   "outputs": [],
   "source": [
    "import main"
   ]
  },
  {
   "cell_type": "code",
   "execution_count": 2,
   "metadata": {},
   "outputs": [
    {
     "name": "stdout",
     "output_type": "stream",
     "text": [
      "seed 3718744972\n",
      "RunID: 2020-03-30T02_22_18.486144\n",
      "8\n",
      "p(z):\n",
      "<class 'distributions.sparse.Sparse'>\n",
      "(tensor(0.8000), tensor([[0., 0., 0., 0., 0., 0., 0., 0., 0., 0.]]), tensor([[1., 1., 1., 1., 1., 1., 1., 1., 1., 1.]]))\n",
      "q(z|x):\n",
      "<class 'torch.distributions.normal.Normal'>\n",
      "Loss function:  decomp_objective\n",
      "Dataset size :  60000\n",
      "Batch size :  64\n",
      "Latent dimensions :  10\n",
      "Starting training...\n",
      "1\n",
      "====> Epoch: 001 Loss: -666.5\n",
      "====> Test:      Loss: -962.08\n",
      "2\n",
      "====> Epoch: 002 Loss: -979.6\n",
      "====> Test:      Loss: -1019.42\n",
      "3\n",
      "====> Epoch: 003 Loss: -1018.5\n",
      "====> Test:      Loss: -1031.28\n",
      "p(z) params:\n",
      "(tensor(0.8000, device='cuda:8'), tensor([[0., 0., 0., 0., 0., 0., 0., 0., 0., 0.]], device='cuda:8'), tensor([[1., 1., 1., 1., 1., 1., 1., 1., 1., 1.]], device='cuda:8'))\n",
      "====> [ME-VAE] Time:  54.787s or 00:00:54\n"
     ]
    }
   ],
   "source": [
    "m = main.run(\n",
    "    name='wtf',\n",
    "    cuda_dev=8,\n",
    "    model='dsprites',\n",
    "    skip_test=True,\n",
    "    epochs=10,\n",
    "    lr=5e-4,\n",
    "    batch_size=64,\n",
    "    latent_dim=10,\n",
    "    beta=1,\n",
    "    prior_variance='iso',\n",
    "#     learn_prior_variance=True,\n",
    "#     prior=main.args.prior\n",
    "#     prior='StudentT',\n",
    "#     df=9.\n",
    ")"
   ]
  },
  {
   "cell_type": "code",
   "execution_count": null,
   "metadata": {},
   "outputs": [],
   "source": [
    "import analyse"
   ]
  },
  {
   "cell_type": "code",
   "execution_count": null,
   "metadata": {},
   "outputs": [],
   "source": [
    "!pwd"
   ]
  },
  {
   "cell_type": "code",
   "execution_count": null,
   "metadata": {},
   "outputs": [],
   "source": [
    "analyse.run(\n",
    "    '/export/home/vtschern/workspace/test/experiments/2020-03-30T01_28_17.273538zqphwnru',\n",
    "    disentanglement=True\n",
    ")"
   ]
  },
  {
   "cell_type": "code",
   "execution_count": null,
   "metadata": {},
   "outputs": [],
   "source": [
    "import rarfile"
   ]
  },
  {
   "cell_type": "code",
   "execution_count": null,
   "metadata": {},
   "outputs": [],
   "source": [
    "import torch"
   ]
  },
  {
   "cell_type": "code",
   "execution_count": null,
   "metadata": {},
   "outputs": [],
   "source": [
    "z = torch.load(\n",
    "    '/export/home/vtschern/workspace/test/experiments/2020-03-30T01_28_17.273538zqphwnru/losses.rar'\n",
    ")"
   ]
  },
  {
   "cell_type": "code",
   "execution_count": null,
   "metadata": {},
   "outputs": [],
   "source": [
    "z"
   ]
  },
  {
   "cell_type": "code",
   "execution_count": null,
   "metadata": {},
   "outputs": [],
   "source": [
    "rarfile.is_rarfile()"
   ]
  },
  {
   "cell_type": "code",
   "execution_count": null,
   "metadata": {},
   "outputs": [],
   "source": [
    "losses2.rar"
   ]
  },
  {
   "cell_type": "code",
   "execution_count": null,
   "metadata": {},
   "outputs": [],
   "source": []
  },
  {
   "cell_type": "code",
   "execution_count": null,
   "metadata": {},
   "outputs": [],
   "source": [
    "next(iter(z))"
   ]
  },
  {
   "cell_type": "code",
   "execution_count": null,
   "metadata": {},
   "outputs": [],
   "source": []
  }
 ],
 "metadata": {
  "kernelspec": {
   "display_name": "Python 3",
   "language": "python",
   "name": "python3"
  },
  "language_info": {
   "codemirror_mode": {
    "name": "ipython",
    "version": 3
   },
   "file_extension": ".py",
   "mimetype": "text/x-python",
   "name": "python",
   "nbconvert_exporter": "python",
   "pygments_lexer": "ipython3",
   "version": "3.7.6"
  }
 },
 "nbformat": 4,
 "nbformat_minor": 4
}
