{
 "cells": [
  {
   "cell_type": "code",
   "execution_count": null,
   "metadata": {},
   "outputs": [],
   "source": [
    "# NOTE: \"made code on github only available for Colab usage, will remove it afterwards again\""
   ]
  },
  {
   "cell_type": "markdown",
   "metadata": {},
   "source": [
    "## commands for training models and generating saved models (for analysing step)\n",
    "Appendix:\n",
    "\n",
    "\"For p(z) = N (z; 0, diag(σ)), experiments were run with \n",
    "\n",
    "a batch size of 64 and for 20 epochs. For p(z) = 􏰐d STUDENT-T(zd; ν), \n",
    "\n",
    "experiments were run with a batch size of 256 and for 40 epochs\"\n",
    "\n",
    "### T-Student's with different degrees of freedom\n",
    "```\n",
    "# here batch size and nb epochs different; choose anyway 20, otherwise too much time\n",
    "DF=2; python main.py --cuda-dev=4 --name dsprites_beta_1_pz_st_$DF --model dsprites \\\n",
    "    --skip-test --epochs 20 --lr 1e-4 --batch-size 256 --latent-dim 10 --beta 1. --prior StudentT --df $DF\n",
    "DF=5; python main.py --cuda-dev=4 --name dsprites_beta_1_pz_st_$DF --model dsprites \\\n",
    "    --skip-test --epochs 20 --lr 1e-4 --batch-size 256 --latent-dim 10 --beta 1. --prior StudentT --df $DF\n",
    "DF=9; python main.py --cuda-dev=2 --name dsprites_beta_1_pz_st_$DF --model dsprites \\\n",
    "    --skip-test --epochs 20 --lr 1e-4 --batch-size 256 --latent-dim 10 --beta 1. --prior StudentT --df $DF\n",
    "DF=12; python main.py --cuda-dev=2 --name dsprites_beta_1_pz_st_$DF --model dsprites \\\n",
    "    --skip-test --epochs 20 --lr 1e-4 --batch-size 256 --latent-dim 10 --beta 1. --prior StudentT --df $DF\n",
    "DF=9999; python main.py --cuda-dev=6 --name dsprites_beta_1_pz_st_$DF --model dsprites \\\n",
    "    --skip-test --epochs 20 --lr 1e-4 --batch-size 256 --latent-dim 10 --beta 1. --prior StudentT --df $DF\n",
    "\n",
    "```\n",
    "\n",
    "### Isotropic gaussian or anistropic gaussian with learned or fixed PCA\n",
    "\n",
    "```\n",
    "\n",
    "BETA=1 python main.py --cuda-dev=8 --name dsprites_beta_$BETA\\_pz_norm_iso --model dsprites \\\n",
    "    --skip-test --epochs 20 --lr 1e-4 --batch-size 64 --latent-dim 10 --beta $BETA --prior-variance iso\n",
    "BETA=1 python main.py --cuda-dev=8 --name dsprites_beta_$BETA\\_pz_norm_pca --model dsprites \\\n",
    "    --skip-test --epochs 20 --lr 1e-4 --batch-size 64 --latent-dim 10 --beta $BETA --prior-variance pca\n",
    "BETA=1 python main.py --cuda-dev=8 --name dsprites_beta_$BETA\\_pz_norm_pca_learn --model dsprites \\\n",
    "    --skip-test --epochs 20 --lr 1e-4 --batch-size 64 --latent-dim 10 --beta $BETA --prior-variance pca \\\n",
    "    --learn-prior-variance\n",
    "\n",
    "# --- done\n",
    "\n",
    "BETA=2; python main.py --cuda-dev=6 --name dsprites_beta_$BETA\\_pz_norm_iso --model dsprites \\\n",
    "    --skip-test --epochs 20 --lr 1e-4 --batch-size 64 --latent-dim 10 --beta $BETA --prior-variance iso\n",
    "BETA=2; python main.py --cuda-dev=7 --name dsprites_beta_$BETA\\_pz_norm_pca --model dsprites \\\n",
    "    --skip-test --epochs 20 --lr 1e-4 --batch-size 64 --latent-dim 10 --beta $BETA --prior-variance pca\n",
    "BETA=2; python main.py --cuda-dev=8 --name dsprites_beta_$BETA\\_pz_norm_pca_learn --model dsprites \\\n",
    "    --skip-test --epochs 20 --lr 1e-4 --batch-size 64 --latent-dim 10 --beta $BETA --prior-variance pca \\\n",
    "    --learn-prior-variance\n",
    "\n",
    "# --- done\n",
    "\n",
    "BETA=4; python main.py --cuda-dev=9 --name dsprites_beta_$BETA\\_pz_norm_iso --model dsprites \\\n",
    "    --skip-test --epochs 20 --lr 1e-4 --batch-size 64 --latent-dim 10 --beta $BETA --prior-variance iso\n",
    "BETA=4; python main.py --cuda-dev=6 --name dsprites_beta_$BETA\\_pz_norm_pca --model dsprites \\\n",
    "    --skip-test --epochs 20 --lr 1e-4 --batch-size 64 --latent-dim 10 --beta $BETA --prior-variance pca\n",
    "BETA=4; python main.py --cuda-dev=7 --name dsprites_beta_$BETA\\_pz_norm_pca_learn --model dsprites \\\n",
    "    --skip-test --epochs 20 --lr 1e-4 --batch-size 64 --latent-dim 10 --beta $BETA --prior-variance pca \\\n",
    "    --learn-prior-variance\n",
    "\n",
    "# --- done\n",
    "\n",
    "BETA=8; python main.py --cuda-dev=7 --name dsprites_beta_$BETA\\_pz_norm_iso --model dsprites \\\n",
    "    --skip-test --epochs 20 --lr 1e-4 --batch-size 64 --latent-dim 10 --beta $BETA --prior-variance iso\n",
    "BETA=8; python main.py --cuda-dev=8 --name dsprites_beta_$BETA\\_pz_norm_pca --model dsprites \\\n",
    "    --skip-test --epochs 20 --lr 1e-4 --batch-size 64 --latent-dim 10 --beta $BETA --prior-variance pca\n",
    "BETA=8; python main.py --cuda-dev=6 --name dsprites_beta_$BETA\\_pz_norm_pca_learn --model dsprites \\\n",
    "    --skip-test --epochs 20 --lr 1e-4 --batch-size 64 --latent-dim 10 --beta $BETA --prior-variance pca \\\n",
    "    --learn-prior-variance\n",
    "\n",
    "# --- done\n",
    "\n",
    "BETA=16; python main.py --cuda-dev=8 --name dsprites_beta_$BETA\\_pz_norm_iso --model dsprites \\\n",
    "    --skip-test --epochs 20 --lr 1e-4 --batch-size 64 --latent-dim 10 --beta $BETA --prior-variance iso\n",
    "BETA=16; python main.py --cuda-dev=8 --name dsprites_beta_$BETA\\_pz_norm_pca --model dsprites \\\n",
    "    --skip-test --epochs 20 --lr 1e-4 --batch-size 64 --latent-dim 10 --beta $BETA --prior-variance pca\n",
    "BETA=16; python main.py --cuda-dev=6 --name dsprites_beta_$BETA\\_pz_norm_pca_learn --model dsprites \\\n",
    "    --skip-test --epochs 20 --lr 1e-4 --batch-size 64 --latent-dim 10 --beta $BETA --prior-variance pca \\\n",
    "    --learn-prior-variance\n",
    "```"
   ]
  },
  {
   "cell_type": "code",
   "execution_count": null,
   "metadata": {},
   "outputs": [],
   "source": [
    "import analyse"
   ]
  },
  {
   "cell_type": "code",
   "execution_count": 1,
   "metadata": {},
   "outputs": [],
   "source": [
    "import os"
   ]
  },
  {
   "cell_type": "code",
   "execution_count": 15,
   "metadata": {},
   "outputs": [],
   "source": [
    "import sys\n",
    "sys.path.append('src')"
   ]
  },
  {
   "cell_type": "code",
   "execution_count": 17,
   "metadata": {},
   "outputs": [
    {
     "name": "stdout",
     "output_type": "stream",
     "text": [
      "dsprites_beta_2_pz_norm_pca\n",
      "dsprites_beta_4_pz_norm_pca\n",
      "dsprites_beta_4_pz_norm_pca_learn\n",
      "dsprites_beta_1_pz_st_2\n",
      "dsprites_beta_16_pz_norm_pca\n",
      "dsprites_beta_1_pz_st_9999\n",
      "dsprites_beta_1_pz_norm_pca\n",
      "dsprites_beta_8_pz_norm_pca\n",
      "dsprites_beta_2_pz_norm_iso\n",
      "dsprites_beta_1_pz_st_5\n",
      "dsprites_beta_2_pz_norm_pca_learn\n",
      "dsprites_beta_16_pz_norm_pca_learn\n",
      "dsprites_beta_1_pz_norm_pca_learn\n",
      "dsprites_beta_4_pz_norm_iso\n",
      "dsprites_beta_1_pz_st_12\n",
      "dsprites_beta_8_pz_norm_pca_learn\n",
      "dsprites_beta_1_pz_st_9\n",
      "dsprites_beta_16_pz_norm_iso\n",
      "dsprites_beta_8_pz_norm_iso\n",
      "dsprites_beta_1_pz_norm_iso\n"
     ]
    }
   ],
   "source": [
    "for exp_name in os.listdir('experiments/'):\n",
    "    print(exp_name)\n",
    "    sub_dirs = os.listdir('experiments/{}'.format(exp_name))\n",
    "    # for each experiment, only one run\n",
    "    assert len(sub_dirs) == 1\n",
    "    sub_dir = sub_dirs[0]\n",
    "    path = "
   ]
  },
  {
   "cell_type": "code",
   "execution_count": null,
   "metadata": {},
   "outputs": [],
   "source": []
  },
  {
   "cell_type": "code",
   "execution_count": null,
   "metadata": {},
   "outputs": [],
   "source": [
    "analyse.run(\n",
    "    '/export/home/vtschern/workspace/test/experiments/2020-03-30T01_28_17.273538zqphwnru',\n",
    "    disentanglement=True\n",
    ")"
   ]
  },
  {
   "cell_type": "code",
   "execution_count": null,
   "metadata": {},
   "outputs": [],
   "source": [
    "import torch"
   ]
  },
  {
   "cell_type": "code",
   "execution_count": null,
   "metadata": {},
   "outputs": [],
   "source": [
    "z = torch.load(\n",
    "    '/export/home/vtschern/workspace/test/experiments/2020-03-30T01_28_17.273538zqphwnru/losses.rar'\n",
    ")"
   ]
  },
  {
   "cell_type": "code",
   "execution_count": null,
   "metadata": {},
   "outputs": [],
   "source": [
    "z"
   ]
  },
  {
   "cell_type": "code",
   "execution_count": null,
   "metadata": {},
   "outputs": [],
   "source": [
    "rarfile.is_rarfile()"
   ]
  },
  {
   "cell_type": "code",
   "execution_count": null,
   "metadata": {},
   "outputs": [],
   "source": [
    "losses2.rar"
   ]
  },
  {
   "cell_type": "code",
   "execution_count": null,
   "metadata": {},
   "outputs": [],
   "source": []
  },
  {
   "cell_type": "code",
   "execution_count": null,
   "metadata": {},
   "outputs": [],
   "source": [
    "next(iter(z))"
   ]
  },
  {
   "cell_type": "code",
   "execution_count": null,
   "metadata": {},
   "outputs": [],
   "source": []
  }
 ],
 "metadata": {
  "kernelspec": {
   "display_name": "Python 3",
   "language": "python",
   "name": "python3"
  },
  "language_info": {
   "codemirror_mode": {
    "name": "ipython",
    "version": 3
   },
   "file_extension": ".py",
   "mimetype": "text/x-python",
   "name": "python",
   "nbconvert_exporter": "python",
   "pygments_lexer": "ipython3",
   "version": "3.7.6"
  }
 },
 "nbformat": 4,
 "nbformat_minor": 4
}
