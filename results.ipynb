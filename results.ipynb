{
 "cells": [
  {
   "cell_type": "markdown",
   "metadata": {},
   "source": [
    "## commands for training models and generating saved models (for analysing step)\n",
    "Appendix:\n",
    "\n",
    "\"For p(z) = N (z; 0, diag(σ)), experiments were run with \n",
    "\n",
    "a batch size of 64 and for 20 epochs. For p(z) = 􏰐d STUDENT-T(zd; ν), \n",
    "\n",
    "experiments were run with a batch size of 256 and for 40 epochs\"\n",
    "\n",
    "### T-Student's with different degrees of freedom\n",
    "```\n",
    "# here batch size and nb epochs different; choose anyway 20, otherwise too much time\n",
    "DF=2; python main.py --cuda-dev=4 --name dsprites_beta_1_pz_st_$DF --model dsprites \\\n",
    "    --skip-test --epochs 20 --lr 1e-4 --batch-size 256 --latent-dim 10 --beta 1. --prior StudentT --df $DF\n",
    "DF=5; python main.py --cuda-dev=4 --name dsprites_beta_1_pz_st_$DF --model dsprites \\\n",
    "    --skip-test --epochs 20 --lr 1e-4 --batch-size 256 --latent-dim 10 --beta 1. --prior StudentT --df $DF\n",
    "DF=9; python main.py --cuda-dev=2 --name dsprites_beta_1_pz_st_$DF --model dsprites \\\n",
    "    --skip-test --epochs 20 --lr 1e-4 --batch-size 256 --latent-dim 10 --beta 1. --prior StudentT --df $DF\n",
    "DF=12; python main.py --cuda-dev=2 --name dsprites_beta_1_pz_st_$DF --model dsprites \\\n",
    "    --skip-test --epochs 20 --lr 1e-4 --batch-size 256 --latent-dim 10 --beta 1. --prior StudentT --df $DF\n",
    "DF=9999; python main.py --cuda-dev=6 --name dsprites_beta_1_pz_st_$DF --model dsprites \\\n",
    "    --skip-test --epochs 20 --lr 1e-4 --batch-size 256 --latent-dim 10 --beta 1. --prior StudentT --df $DF\n",
    "\n",
    "```\n",
    "\n",
    "### Isotropic gaussian or anistropic gaussian with learned or fixed PCA\n",
    "\n",
    "```\n",
    "\n",
    "BETA=1 python main.py --cuda-dev=8 --name dsprites_beta_$BETA\\_pz_norm_iso --model dsprites \\\n",
    "    --skip-test --epochs 20 --lr 1e-4 --batch-size 64 --latent-dim 10 --beta $BETA --prior-variance iso\n",
    "BETA=1 python main.py --cuda-dev=8 --name dsprites_beta_$BETA\\_pz_norm_pca --model dsprites \\\n",
    "    --skip-test --epochs 20 --lr 1e-4 --batch-size 64 --latent-dim 10 --beta $BETA --prior-variance pca\n",
    "BETA=1 python main.py --cuda-dev=8 --name dsprites_beta_$BETA\\_pz_norm_pca_learn --model dsprites \\\n",
    "    --skip-test --epochs 20 --lr 1e-4 --batch-size 64 --latent-dim 10 --beta $BETA --prior-variance pca \\\n",
    "    --learn-prior-variance\n",
    "\n",
    "# --- done\n",
    "\n",
    "BETA=2; python main.py --cuda-dev=6 --name dsprites_beta_$BETA\\_pz_norm_iso --model dsprites \\\n",
    "    --skip-test --epochs 20 --lr 1e-4 --batch-size 64 --latent-dim 10 --beta $BETA --prior-variance iso\n",
    "BETA=2; python main.py --cuda-dev=7 --name dsprites_beta_$BETA\\_pz_norm_pca --model dsprites \\\n",
    "    --skip-test --epochs 20 --lr 1e-4 --batch-size 64 --latent-dim 10 --beta $BETA --prior-variance pca\n",
    "BETA=2; python main.py --cuda-dev=8 --name dsprites_beta_$BETA\\_pz_norm_pca_learn --model dsprites \\\n",
    "    --skip-test --epochs 20 --lr 1e-4 --batch-size 64 --latent-dim 10 --beta $BETA --prior-variance pca \\\n",
    "    --learn-prior-variance\n",
    "\n",
    "# --- done\n",
    "\n",
    "BETA=4; python main.py --cuda-dev=9 --name dsprites_beta_$BETA\\_pz_norm_iso --model dsprites \\\n",
    "    --skip-test --epochs 20 --lr 1e-4 --batch-size 64 --latent-dim 10 --beta $BETA --prior-variance iso\n",
    "BETA=4; python main.py --cuda-dev=6 --name dsprites_beta_$BETA\\_pz_norm_pca --model dsprites \\\n",
    "    --skip-test --epochs 20 --lr 1e-4 --batch-size 64 --latent-dim 10 --beta $BETA --prior-variance pca\n",
    "BETA=4; python main.py --cuda-dev=7 --name dsprites_beta_$BETA\\_pz_norm_pca_learn --model dsprites \\\n",
    "    --skip-test --epochs 20 --lr 1e-4 --batch-size 64 --latent-dim 10 --beta $BETA --prior-variance pca \\\n",
    "    --learn-prior-variance\n",
    "\n",
    "# --- done\n",
    "\n",
    "BETA=8; python main.py --cuda-dev=7 --name dsprites_beta_$BETA\\_pz_norm_iso --model dsprites \\\n",
    "    --skip-test --epochs 20 --lr 1e-4 --batch-size 64 --latent-dim 10 --beta $BETA --prior-variance iso\n",
    "BETA=8; python main.py --cuda-dev=8 --name dsprites_beta_$BETA\\_pz_norm_pca --model dsprites \\\n",
    "    --skip-test --epochs 20 --lr 1e-4 --batch-size 64 --latent-dim 10 --beta $BETA --prior-variance pca\n",
    "BETA=8; python main.py --cuda-dev=6 --name dsprites_beta_$BETA\\_pz_norm_pca_learn --model dsprites \\\n",
    "    --skip-test --epochs 20 --lr 1e-4 --batch-size 64 --latent-dim 10 --beta $BETA --prior-variance pca \\\n",
    "    --learn-prior-variance\n",
    "\n",
    "# --- done\n",
    "\n",
    "BETA=16; python main.py --cuda-dev=8 --name dsprites_beta_$BETA\\_pz_norm_iso --model dsprites \\\n",
    "    --skip-test --epochs 20 --lr 1e-4 --batch-size 64 --latent-dim 10 --beta $BETA --prior-variance iso\n",
    "BETA=16; python main.py --cuda-dev=8 --name dsprites_beta_$BETA\\_pz_norm_pca --model dsprites \\\n",
    "    --skip-test --epochs 20 --lr 1e-4 --batch-size 64 --latent-dim 10 --beta $BETA --prior-variance pca\n",
    "BETA=16; python main.py --cuda-dev=6 --name dsprites_beta_$BETA\\_pz_norm_pca_learn --model dsprites \\\n",
    "    --skip-test --epochs 20 --lr 1e-4 --batch-size 64 --latent-dim 10 --beta $BETA --prior-variance pca \\\n",
    "    --learn-prior-variance\n",
    "```"
   ]
  },
  {
   "cell_type": "code",
   "execution_count": null,
   "metadata": {},
   "outputs": [],
   "source": [
    "import torch\n",
    "import matplotlib.pyplot as plt\n",
    "import numpy as np"
   ]
  },
  {
   "cell_type": "code",
   "execution_count": 4,
   "metadata": {},
   "outputs": [],
   "source": [
    "import os\n",
    "os.chdir('src')\n",
    "import analyse"
   ]
  },
  {
   "cell_type": "code",
   "execution_count": 5,
   "metadata": {},
   "outputs": [],
   "source": [
    "path_experiments = '../experiments'"
   ]
  },
  {
   "cell_type": "code",
   "execution_count": null,
   "metadata": {},
   "outputs": [],
   "source": [
    "# calculate disentanglement for each experiment\n",
    "for exp_name in os.listdir(path_experiments):\n",
    "    print(exp_name)\n",
    "    sub_dirs = os.listdir('{}/{}'.format(path_experiments, exp_name))\n",
    "    # for each experiment, made only one run\n",
    "    assert len(sub_dirs) == 1\n",
    "    sub_dir = sub_dirs[0]\n",
    "    path = os.path.join(path_experiments, exp_name, sub_dir)\n",
    "    result = analyse.run(\n",
    "        path,\n",
    "        disentanglement=True\n",
    "    )"
   ]
  },
  {
   "cell_type": "markdown",
   "metadata": {},
   "source": [
    "## Results for Isotropic, PCA anisotropic and learned anisoptropic"
   ]
  },
  {
   "cell_type": "code",
   "execution_count": 177,
   "metadata": {},
   "outputs": [],
   "source": [
    "def reduce_result(result):\n",
    "    return [result['test_disentanglement'][0], -result['test_recon'][0], result['test_loss'][0]]"
   ]
  },
  {
   "cell_type": "code",
   "execution_count": 216,
   "metadata": {},
   "outputs": [],
   "source": [
    "results = {}\n",
    "# calculate disentanglement for each experiment\n",
    "for exp_name in filter(\n",
    "    lambda k: 'st' not in k, os.listdir(path_experiments)\n",
    "):\n",
    "    sub_dir = os.listdir('{}/{}'.format(path_experiments, exp_name))[0]\n",
    "    path = os.path.join(path_experiments, exp_name, sub_dir)\n",
    "    path_result = os.path.join(path, 'losses2.rar')\n",
    "    exp_type = exp_name.split('_pz_norm_')[1]\n",
    "    exp_type = exp_type.replace('pca_learn', 'learn')\n",
    "    beta = int(exp_name.split('_')[2])\n",
    "    reduced_result = [beta, *reduce_result(torch.load(path_result))]\n",
    "    if exp_type not in results:\n",
    "        results[exp_type] = [reduced_result]\n",
    "    else:\n",
    "        results[exp_type].append(reduced_result)"
   ]
  },
  {
   "cell_type": "code",
   "execution_count": 217,
   "metadata": {},
   "outputs": [
    {
     "data": {
      "text/plain": [
       "{'pca': [[2, 0.6293500065803528, 36.81873127652539, 74.40439233382543],\n",
       "  [4, 0.7137500047683716, 54.36469769477844, 108.69641178448995],\n",
       "  [16, 0.7834500074386597, 121.89378808670574, 218.7743469397227],\n",
       "  [1, 0.7256999611854553, 25.531763960089947, 51.359320506453514],\n",
       "  [8, 0.6635000109672546, 80.48822306195895, 161.192526740498]],\n",
       " 'learn': [[4, 0.8089999556541443, 50.69554929633935, 107.766665557358],\n",
       "  [2, 0.8659499883651733, 33.50199569943879, 73.59125222629972],\n",
       "  [16, 0.7354999780654907, 114.4205999341276, 217.70467833810383],\n",
       "  [1, 0.8400499820709229, 23.69030263606045, 50.89895925521851],\n",
       "  [8, 0.7256499528884888, 78.46133697099155, 159.63298847807778]],\n",
       " 'iso': [[2, 0.8127999901771545, 33.948161529335714, 73.17408947613504],\n",
       "  [4, 0.6886999607086182, 50.133210098081165, 108.22840852075153],\n",
       "  [16, 0.8083999752998352, 113.28745107187166, 217.61837780078253],\n",
       "  [8, 0.7337499856948853, 79.42994534472625, 158.89367266363567],\n",
       "  [1, 0.7054499983787537, 23.542267998887432, 51.283004479938086]]}"
      ]
     },
     "execution_count": 217,
     "metadata": {},
     "output_type": "execute_result"
    }
   ],
   "source": [
    "results"
   ]
  },
  {
   "cell_type": "code",
   "execution_count": 218,
   "metadata": {},
   "outputs": [],
   "source": [
    "# sort w.r.t. beta\n",
    "for k in results:\n",
    "    results[k] = sorted(results[k], key = lambda x: x[0])"
   ]
  },
  {
   "cell_type": "code",
   "execution_count": 219,
   "metadata": {},
   "outputs": [
    {
     "data": {
      "text/plain": [
       "{'pca': [[1, 0.7256999611854553, 25.531763960089947, 51.359320506453514],\n",
       "  [2, 0.6293500065803528, 36.81873127652539, 74.40439233382543],\n",
       "  [4, 0.7137500047683716, 54.36469769477844, 108.69641178448995],\n",
       "  [8, 0.6635000109672546, 80.48822306195895, 161.192526740498],\n",
       "  [16, 0.7834500074386597, 121.89378808670574, 218.7743469397227]],\n",
       " 'learn': [[1, 0.8400499820709229, 23.69030263606045, 50.89895925521851],\n",
       "  [2, 0.8659499883651733, 33.50199569943879, 73.59125222629972],\n",
       "  [4, 0.8089999556541443, 50.69554929633935, 107.766665557358],\n",
       "  [8, 0.7256499528884888, 78.46133697099155, 159.63298847807778],\n",
       "  [16, 0.7354999780654907, 114.4205999341276, 217.70467833810383]],\n",
       " 'iso': [[1, 0.7054499983787537, 23.542267998887432, 51.283004479938086],\n",
       "  [2, 0.8127999901771545, 33.948161529335714, 73.17408947613504],\n",
       "  [4, 0.6886999607086182, 50.133210098081165, 108.22840852075153],\n",
       "  [8, 0.7337499856948853, 79.42994534472625, 158.89367266363567],\n",
       "  [16, 0.8083999752998352, 113.28745107187166, 217.61837780078253]]}"
      ]
     },
     "execution_count": 219,
     "metadata": {},
     "output_type": "execute_result"
    }
   ],
   "source": [
    "results"
   ]
  },
  {
   "cell_type": "code",
   "execution_count": 220,
   "metadata": {},
   "outputs": [
    {
     "data": {
      "text/plain": [
       "<matplotlib.legend.Legend at 0x7fbf38c3b410>"
      ]
     },
     "execution_count": 220,
     "metadata": {},
     "output_type": "execute_result"
    },
    {
     "data": {
      "image/png": "[encoded data removed]",
      "text/plain": [
       "<Figure size 432x288 with 1 Axes>"
      ]
     },
     "metadata": {},
     "output_type": "display_data"
    }
   ],
   "source": [
    "for k in results:\n",
    "    A = np.array(results[k])\n",
    "    betas = A[:, 0]\n",
    "    disentanglement_score = A[:, 1]\n",
    "    reconstruction_loss = A[:, 2]\n",
    "    plt.plot(reconstruction_loss, disentanglement_score, label=k, marker='o')\n",
    "    for b, x, y in zip(betas, reconstruction_loss, disentanglement_score):\n",
    "        plt.text(x, y, int(b), color=\"black\", fontsize=12)\n",
    "#     plt.text()\n",
    "plt.legend(loc='upper center')"
   ]
  },
  {
   "cell_type": "markdown",
   "metadata": {},
   "source": [
    "## Results for Student's t"
   ]
  },
  {
   "cell_type": "code",
   "execution_count": 221,
   "metadata": {},
   "outputs": [
    {
     "name": "stdout",
     "output_type": "stream",
     "text": [
      "dsprites_beta_1_pz_st_2\n",
      "dsprites_beta_1_pz_st_9999\n",
      "dsprites_beta_1_pz_st_5\n",
      "dsprites_beta_1_pz_st_12\n",
      "dsprites_beta_1_pz_st_9\n"
     ]
    }
   ],
   "source": [
    "results = []\n",
    "for exp_name in filter(\n",
    "    lambda k: 'st' in k, os.listdir(path_experiments)\n",
    "):\n",
    "    print(exp_name)\n",
    "    sub_dir = os.listdir('{}/{}'.format(path_experiments, exp_name))[0]\n",
    "    path = os.path.join(path_experiments, exp_name, sub_dir)\n",
    "    path_result = os.path.join(path, 'losses2.rar')\n",
    "    df = int(exp_name.split('_')[-1])\n",
    "    reduced_result = [df, *reduce_result(torch.load(path_result))]\n",
    "    results.append(reduced_result)"
   ]
  },
  {
   "cell_type": "code",
   "execution_count": 222,
   "metadata": {},
   "outputs": [
    {
     "data": {
      "text/plain": [
       "[[2, 0.7511000037193298, 23.74357327553961, 50.44029559791088],\n",
       " [9999, 0.7664499878883362, 32.73240180148019, 57.958545576201544],\n",
       " [5, 0.7141500115394592, 22.506062146524588, 50.0324203375313],\n",
       " [12, 0.8029999732971191, 34.51896940867106, 59.646513251463574],\n",
       " [9, 0.7371999621391296, 23.619375787509814, 50.93857575323847]]"
      ]
     },
     "execution_count": 222,
     "metadata": {},
     "output_type": "execute_result"
    }
   ],
   "source": [
    "results"
   ]
  },
  {
   "cell_type": "code",
   "execution_count": 223,
   "metadata": {},
   "outputs": [],
   "source": [
    "# sort w.r.t. reconstruction err\n",
    "results = sorted(results, key = lambda x: x[1])"
   ]
  },
  {
   "cell_type": "code",
   "execution_count": 224,
   "metadata": {},
   "outputs": [
    {
     "data": {
      "text/plain": [
       "[[5, 0.7141500115394592, 22.506062146524588, 50.0324203375313],\n",
       " [9, 0.7371999621391296, 23.619375787509814, 50.93857575323847],\n",
       " [2, 0.7511000037193298, 23.74357327553961, 50.44029559791088],\n",
       " [9999, 0.7664499878883362, 32.73240180148019, 57.958545576201544],\n",
       " [12, 0.8029999732971191, 34.51896940867106, 59.646513251463574]]"
      ]
     },
     "execution_count": 224,
     "metadata": {},
     "output_type": "execute_result"
    }
   ],
   "source": [
    "results"
   ]
  },
  {
   "cell_type": "code",
   "execution_count": 225,
   "metadata": {},
   "outputs": [
    {
     "data": {
      "text/plain": [
       "<matplotlib.legend.Legend at 0x7fbf38bb5bd0>"
      ]
     },
     "execution_count": 225,
     "metadata": {},
     "output_type": "execute_result"
    },
    {
     "data": {
      "image/png": "[encoded data removed]",
      "text/plain": [
       "<Figure size 432x288 with 1 Axes>"
      ]
     },
     "metadata": {},
     "output_type": "display_data"
    }
   ],
   "source": [
    "# loss minus recon. loss; 9999 represents inf\n",
    "A = np.array(results)\n",
    "dfs = A[:, 0]\n",
    "disentanglement_score = A[:, 1]\n",
    "reconstruction_loss = A[:, 3] - A[:, 2]\n",
    "plt.plot(reconstruction_loss, disentanglement_score, label=\"t-student's\", marker='o')\n",
    "for df, x, y in zip(dfs, reconstruction_loss, disentanglement_score):\n",
    "    plt.text(x, y, int(df), color=\"black\", fontsize=12)\n",
    "#     plt.text()\n",
    "plt.legend(loc='upper center')"
   ]
  },
  {
   "cell_type": "code",
   "execution_count": 226,
   "metadata": {},
   "outputs": [
    {
     "data": {
      "text/plain": [
       "<matplotlib.legend.Legend at 0x7fbf38b2a990>"
      ]
     },
     "execution_count": 226,
     "metadata": {},
     "output_type": "execute_result"
    },
    {
     "data": {
      "image/png": "[encoded data removed]",
      "text/plain": [
       "<Figure size 432x288 with 1 Axes>"
      ]
     },
     "metadata": {},
     "output_type": "display_data"
    }
   ],
   "source": [
    "# recon. loss\n",
    "A = np.array(results)\n",
    "dfs = A[:, 0]\n",
    "disentanglement_score = A[:, 1]\n",
    "reconstruction_loss = A[:, 2]\n",
    "plt.plot(reconstruction_loss, disentanglement_score, label=\"t-student's\", marker='o')\n",
    "for df, x, y in zip(dfs, reconstruction_loss, disentanglement_score):\n",
    "    plt.text(x, y, int(df), color=\"black\", fontsize=12)\n",
    "#     plt.text()\n",
    "plt.legend(loc='upper center')"
   ]
  }
 ],
 "metadata": {
  "kernelspec": {
   "display_name": "Python 3",
   "language": "python",
   "name": "python3"
  },
  "language_info": {
   "codemirror_mode": {
    "name": "ipython",
    "version": 3
   },
   "file_extension": ".py",
   "mimetype": "text/x-python",
   "name": "python",
   "nbconvert_exporter": "python",
   "pygments_lexer": "ipython3",
   "version": "3.7.6"
  }
 },
 "nbformat": 4,
 "nbformat_minor": 4
}
